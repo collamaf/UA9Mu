{
 "cells": [
  {
   "cell_type": "code",
   "execution_count": null,
   "metadata": {},
   "outputs": [],
   "source": [
    "import math\n",
    "import numpy as np\n",
    "import pandas as pd\n",
    "import matplotlib\n",
    "import matplotlib.pyplot as plt\n",
    "from scipy import stats\n",
    "from scipy.stats import kde\n",
    "from matplotlib.patches import Ellipse\n",
    "import matplotlib.transforms as transforms\n",
    "from scipy.special import erfinv\n",
    "from matplotlib.colors import LogNorm\n",
    "\n",
    "print(\"Hello world!\")\n",
    "folder=\"../BigDataFiles/\"\n",
    "inputFile=folder+\"ACP80_0.dat\"\n",
    "cols=[\"gonio_angle\",\"d0_x\",\"d0_y\",\"thetaIn_x\",\"thetaOut_x\",\"thetaIn_y\",\"thetaOut_y\",\"unknown1\",\"unknown2\"]"
   ]
  },
  {
   "cell_type": "code",
   "execution_count": null,
   "metadata": {},
   "outputs": [],
   "source": [
    "dataset = pd.read_csv(inputFile,header=None,names=cols)\n",
    "print(dataset.iloc[0,:])\n"
   ]
  },
  {
   "cell_type": "code",
   "execution_count": null,
   "metadata": {},
   "outputs": [],
   "source": [
    "nbins=100\n",
    "fig = plt.figure(num=None, figsize=(8*2, 8), dpi=80, facecolor='w', edgecolor='k')\n",
    "\n",
    "ax1 = plt.subplot(1,2,1)\n",
    "plt.hist2d(dataset[\"d0_x\"], (dataset[\"thetaOut_x\"]-dataset[\"thetaIn_x\"])*1000, bins=(50, 50),range=[[-5.,5.],[-0.1,0.1]],  cmap=\"Reds\")\n",
    "plt.xlabel(r\"$d_{0,x}$ [mrad]\",fontsize='20')\n",
    "plt.ylabel(r\"$\\Delta\\theta_x$ [mrad]\",fontsize='20')\n",
    "ax2 = plt.subplot(1,2,2)\n",
    "plt.hist2d(dataset[\"d0_y\"], (dataset[\"thetaOut_x\"]-dataset[\"thetaIn_x\"])*1000, bins=(50, 50),range=[[-5.,5.],[-0.1,0.1]],  cmap=\"Blues\")\n",
    "plt.xlabel(r\"$d_{0,y}$ [mrad]\",fontsize='20')\n",
    "plt.ylabel(r\"$\\Delta\\theta_x$ [mrad]\",fontsize='20')\n",
    "plt.show()"
   ]
  },
  {
   "cell_type": "code",
   "execution_count": null,
   "metadata": {},
   "outputs": [],
   "source": [
    "applyCut = True\n",
    "applyWeight = False\n",
    "saveDataFiltered=True\n",
    "\n",
    "max_d0x = 1.5\n",
    "max_d0y = 1.5\n",
    "#max_thetaInx = 0.015"
   ]
  },
  {
   "cell_type": "code",
   "execution_count": null,
   "metadata": {},
   "outputs": [],
   "source": [
    "if applyCut:\n",
    "    #apply whatever selection you need\n",
    "    dataset = dataset[abs(dataset.d0_x)<max_d0x]\n",
    "    dataset = dataset[abs(dataset.d0_y)<max_d0y]\n",
    "    #dataset = dataset[abs(dataset.thetaIn_x)<max_thetaInx]"
   ]
  },
  {
   "cell_type": "code",
   "execution_count": null,
   "metadata": {},
   "outputs": [],
   "source": [
    "outputFile=inputFile.replace(\".dat\",\"_flt.dat\")\n",
    "if saveDataFiltered:\n",
    "    dataset.to_csv(outputFile,header=None,index=None)"
   ]
  },
  {
   "cell_type": "code",
   "execution_count": null,
   "metadata": {},
   "outputs": [],
   "source": []
  }
 ],
 "metadata": {
  "kernelspec": {
   "display_name": "Python 3",
   "language": "python",
   "name": "python3"
  },
  "language_info": {
   "codemirror_mode": {
    "name": "ipython",
    "version": 3
   },
   "file_extension": ".py",
   "mimetype": "text/x-python",
   "name": "python",
   "nbconvert_exporter": "python",
   "pygments_lexer": "ipython3",
   "version": "3.7.10"
  }
 },
 "nbformat": 4,
 "nbformat_minor": 2
}
